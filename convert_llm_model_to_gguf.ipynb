{
 "cells": [
  {
   "cell_type": "markdown",
   "source": [
    "# Hugging Face Hub의 모델을 GGUF 파일로 변환하기\n",
    "\n",
    "> Hugging Face에 올라와 있는 모델들은 PyTorch와 같은 딥러닝 프레임워크에서 모델을 가져다 쓰기 편하도록 여러 모델 파일들로 나뉘어 있다. Ollama에서 Hugging Face의 모델을 사용하기 위해서는 이 모델 파일들을 하나의 `.gguf` 파일로 변환하는 과정이 필요하다.\n",
    "\n",
    "- **모델**: [maywell/Llama-3-Ko-8B-Instruct](https://huggingface.co/maywell/Llama-3-Ko-8B-Instruct/tree/main)\n",
    "- **참고**: [한국어 제일 잘하는 AI 찾기 (feat: 0llama / quantize)](https://devmeta.tistory.com/80)"
   ],
   "metadata": {
    "id": "jWXiri-f3a-U"
   }
  },
  {
   "cell_type": "markdown",
   "source": [
    "## Google Drive 연결"
   ],
   "metadata": {
    "id": "JCXCCCC33mZP"
   }
  },
  {
   "cell_type": "code",
   "execution_count": null,
   "metadata": {
    "colab": {
     "base_uri": "https://localhost:8080/"
    },
    "executionInfo": {
     "elapsed": 21691,
     "status": "ok",
     "timestamp": 1722059791073,
     "user": {
      "displayName": "YS31",
      "userId": "11004130430813618334"
     },
     "user_tz": -540
    },
    "id": "-gEM-jzB_PGn",
    "outputId": "7ad1761e-fc4d-4e8c-b66d-b6fef9a02bc3"
   },
   "outputs": [
    {
     "name": "stdout",
     "output_type": "stream",
     "text": [
      "Mounted at /content/drive\n"
     ]
    }
   ],
   "source": [
    "from google.colab import drive\n",
    "drive.mount('/content/drive')"
   ]
  },
  {
   "cell_type": "code",
   "execution_count": null,
   "metadata": {
    "id": "7IvnCLiV_SpK"
   },
   "outputs": [],
   "source": "dataset_path = '/path/to/your/dataset'"
  },
  {
   "cell_type": "code",
   "metadata": {
    "colab": {
     "base_uri": "https://localhost:8080/"
    },
    "executionInfo": {
     "elapsed": 441,
     "status": "ok",
     "timestamp": 1722047042498,
     "user": {
      "displayName": "YS31",
      "userId": "11004130430813618334"
     },
     "user_tz": -540
    },
    "id": "LVGvQRdj_-S-",
    "outputId": "13b4e0b2-dbb7-4a7b-df76-ff5bd70c7886"
   },
   "source": [
    "cd $dataset_path"
   ],
   "outputs": [],
   "execution_count": null
  },
  {
   "cell_type": "markdown",
   "source": [
    "## Download a Hugging Face Model"
   ],
   "metadata": {
    "id": "zoAxEdSq3pbN"
   }
  },
  {
   "cell_type": "code",
   "metadata": {
    "colab": {
     "base_uri": "https://localhost:8080/"
    },
    "executionInfo": {
     "elapsed": 502615,
     "status": "ok",
     "timestamp": 1722047582781,
     "user": {
      "displayName": "YS31",
      "userId": "11004130430813618334"
     },
     "user_tz": -540
    },
    "id": "Wc3SG-hqAELB",
    "outputId": "c37035fd-a2ea-44bb-b529-79cbecc4c3e2"
   },
   "source": [
    "!git clone https://huggingface.co/maywell/Llama-3-Ko-8B-Instruct"
   ],
   "outputs": [],
   "execution_count": null
  },
  {
   "cell_type": "code",
   "metadata": {
    "colab": {
     "base_uri": "https://localhost:8080/"
    },
    "executionInfo": {
     "elapsed": 48673,
     "status": "ok",
     "timestamp": 1722047657932,
     "user": {
      "displayName": "YS31",
      "userId": "11004130430813618334"
     },
     "user_tz": -540
    },
    "id": "CzDb0sPcAFiT",
    "outputId": "b13a1f35-5c0a-45db-b452-19751a9a38f7"
   },
   "source": [
    "!git clone https://github.com/ggerganov/llama.cpp"
   ],
   "outputs": [],
   "execution_count": null
  },
  {
   "cell_type": "markdown",
   "source": [
    "## Install packages"
   ],
   "metadata": {
    "id": "idLqYgCm4Jf3"
   }
  },
  {
   "cell_type": "code",
   "metadata": {
    "colab": {
     "base_uri": "https://localhost:8080/"
    },
    "executionInfo": {
     "elapsed": 854,
     "status": "ok",
     "timestamp": 1722053213215,
     "user": {
      "displayName": "YS31",
      "userId": "11004130430813618334"
     },
     "user_tz": -540
    },
    "id": "V5cExWbsCiYl",
    "outputId": "b6398b5e-5aff-4ba6-d1e8-7ebb4d0b43df"
   },
   "source": [
    "cd $dataset_path/"
   ],
   "outputs": [],
   "execution_count": null
  },
  {
   "cell_type": "code",
   "metadata": {
    "colab": {
     "base_uri": "https://localhost:8080/"
    },
    "collapsed": true,
    "executionInfo": {
     "elapsed": 55832,
     "status": "ok",
     "timestamp": 1722047884931,
     "user": {
      "displayName": "YS31",
      "userId": "11004130430813618334"
     },
     "user_tz": -540
    },
    "id": "xkup2OwCCkbR",
    "outputId": "3c546ad1-d0c4-4ef5-9f4e-5131601e800c"
   },
   "source": "pip install -r requirements.txt",
   "outputs": [],
   "execution_count": null
  },
  {
   "cell_type": "markdown",
   "source": [
    "## Convert The Model"
   ],
   "metadata": {
    "id": "7XxDR2cX3wrL"
   }
  },
  {
   "cell_type": "code",
   "metadata": {
    "colab": {
     "base_uri": "https://localhost:8080/"
    },
    "collapsed": true,
    "executionInfo": {
     "elapsed": 267828,
     "status": "ok",
     "timestamp": 1722048241120,
     "user": {
      "displayName": "YS31",
      "userId": "11004130430813618334"
     },
     "user_tz": -540
    },
    "id": "XAfrqSM0C_ul",
    "outputId": "a86d2c48-d15e-4cf7-9fc1-56d8555d81b9"
   },
   "source": "!python convert_hf_to_gguf.py '/path/to/your/dataset/Llama-3-Ko-8B-Instruct'",
   "outputs": [],
   "execution_count": null
  },
  {
   "cell_type": "code",
   "metadata": {
    "colab": {
     "base_uri": "https://localhost:8080/"
    },
    "collapsed": true,
    "executionInfo": {
     "elapsed": 344969,
     "status": "ok",
     "timestamp": 1722048637064,
     "user": {
      "displayName": "YS31",
      "userId": "11004130430813618334"
     },
     "user_tz": -540
    },
    "id": "BqST2bPwDaUS",
    "outputId": "343b9cc6-dc0e-4e19-b3c0-30893c5f4093"
   },
   "source": "!python convert_hf_to_gguf.py '/path/to/your/dataset/Llama-3-Ko-8B-Instruct' --outtype q8_0",
   "outputs": [],
   "execution_count": null
  },
  {
   "cell_type": "markdown",
   "source": [
    "## Upload model"
   ],
   "metadata": {
    "id": "W8qIJOsN4NsQ"
   }
  },
  {
   "cell_type": "code",
   "metadata": {
    "colab": {
     "base_uri": "https://localhost:8080/",
     "height": 145,
     "referenced_widgets": [
      "a3c145fa6776483e8051d5ba09ce96c0",
      "664a69deade64015a1ff93f867db53d0",
      "0dd93cfa1b72419180a4a1d29419a5f5",
      "81351fbe8aef421092cba58f68d2e3ec",
      "d93c34ea2a6c488fb5175ec7e9c539cb",
      "2639c5db73b4468bb6eecd01cf3572b8",
      "73a0f0d77eec4c4f9a40f6746d4e43e3",
      "3cd981f8afcb411ca58325e87f3eed03",
      "dad056ecf747499a9a71c4111b776a83",
      "8c935eff21fa41b4ac8086ef10b02c1f",
      "6916bcc5fd6f46988452bbd61593df48",
      "a3dd9887c13a462f88aaf7dfe3b34e81",
      "7ec4aea0ace74ae5a9aaa84f9dd4efb8",
      "05c273aeb5ce4c54a7a5060d08583653"
     ]
    },
    "executionInfo": {
     "elapsed": 423,
     "status": "ok",
     "timestamp": 1722060038421,
     "user": {
      "displayName": "YS31",
      "userId": "11004130430813618334"
     },
     "user_tz": -540
    },
    "id": "0dDS8VqLE6LT",
    "outputId": "c834e807-d605-407b-cbcf-817f4e93f7b7"
   },
   "source": [
    "import huggingface_hub\n",
    "\n",
    "huggingface_hub.login()"
   ],
   "outputs": [],
   "execution_count": null
  },
  {
   "cell_type": "code",
   "metadata": {
    "colab": {
     "base_uri": "https://localhost:8080/"
    },
    "executionInfo": {
     "elapsed": 435,
     "status": "ok",
     "timestamp": 1722060061234,
     "user": {
      "displayName": "YS31",
      "userId": "11004130430813618334"
     },
     "user_tz": -540
    },
    "id": "jxLN1f0PX1Yc",
    "outputId": "23a28b67-39c9-410a-9d63-cd315f45324b"
   },
   "source": [
    "cd $dataset_path/Llama-3-Ko-8B-Instruct"
   ],
   "outputs": [],
   "execution_count": null
  },
  {
   "cell_type": "code",
   "metadata": {
    "colab": {
     "background_save": true,
     "base_uri": "https://localhost:8080/",
     "height": 49,
     "referenced_widgets": [
      "05f9f6dc692547cb838bd71bfbbad3c0",
      "fcb37b9edde14108a4649868be5aaa21",
      "3f263a6c80ce412e9f3e5ef308bcd891",
      "c344026122a1473f953a0a1d189f077f",
      "322cfee05ed14d699f5f13b8c1be88bc",
      "da07cf7295af4f3f9dded757cc4a9d91",
      "6682c48e7b774858a765f5b537fd073b",
      "486c94ff34dc4c5e979970e6efc1e206",
      "f881131f51e44f9ebabc39a8643031ce",
      "0f15a3d366c146e9bf6b4521772ea88a",
      "860495c288e24d7892c1baf4bb0d0971"
     ]
    },
    "id": "uHYjDrtaVJUv",
    "outputId": "6574714f-f201-4e98-a105-cd0a587fba2c"
   },
   "source": [
    "from huggingface_hub import HfApi\n",
    "\n",
    "api = HfApi()\n",
    "\n",
    "model_id = 'your_username/Llama-3-Ko-8B-Instruct' \n",
    "api.create_repo(model_id, exist_ok=True, repo_type=\"model\")\n",
    "api.upload_file(\n",
    "    path_or_fileobj=\"Llama-3-Ko-8B-Instruct-F16.gguf\",  # PC에서의 모델 경로\n",
    "    path_in_repo=\"Llama-3-Ko-8B-Instruct-F16.gguf\",  # Hugging Face Hub에 저장할 파일 이름\n",
    "    repo_id=model_id,\n",
    ")"
   ],
   "outputs": [],
   "execution_count": null
  }
 ],
 "metadata": {
  "colab": {
   "gpuType": "T4",
   "provenance": [],
   "authorship_tag": "ABX9TyNyV/2lXTznohuyjsFlKTBR"
  },
  "kernelspec": {
   "display_name": "Python 3",
   "name": "python3"
  },
  "language_info": {
   "name": "python"
  },
  "widgets": {
   "application/vnd.jupyter.widget-state+json": {
    "05c273aeb5ce4c54a7a5060d08583653": {
     "model_module": "@jupyter-widgets/controls",
     "model_module_version": "1.5.0",
     "model_name": "DescriptionStyleModel",
     "state": {
      "_model_module": "@jupyter-widgets/controls",
      "_model_module_version": "1.5.0",
      "_model_name": "DescriptionStyleModel",
      "_view_count": null,
      "_view_module": "@jupyter-widgets/base",
      "_view_module_version": "1.2.0",
      "_view_name": "StyleView",
      "description_width": ""
     }
    },
    "05f9f6dc692547cb838bd71bfbbad3c0": {
     "model_module": "@jupyter-widgets/controls",
     "model_module_version": "1.5.0",
     "model_name": "HBoxModel",
     "state": {
      "_dom_classes": [],
      "_model_module": "@jupyter-widgets/controls",
      "_model_module_version": "1.5.0",
      "_model_name": "HBoxModel",
      "_view_count": null,
      "_view_module": "@jupyter-widgets/controls",
      "_view_module_version": "1.5.0",
      "_view_name": "HBoxView",
      "box_style": "",
      "children": [
       "IPY_MODEL_fcb37b9edde14108a4649868be5aaa21",
       "IPY_MODEL_3f263a6c80ce412e9f3e5ef308bcd891",
       "IPY_MODEL_c344026122a1473f953a0a1d189f077f"
      ],
      "layout": "IPY_MODEL_322cfee05ed14d699f5f13b8c1be88bc"
     }
    },
    "0dd93cfa1b72419180a4a1d29419a5f5": {
     "model_module": "@jupyter-widgets/controls",
     "model_module_version": "1.5.0",
     "model_name": "LabelModel",
     "state": {
      "_dom_classes": [],
      "_model_module": "@jupyter-widgets/controls",
      "_model_module_version": "1.5.0",
      "_model_name": "LabelModel",
      "_view_count": null,
      "_view_module": "@jupyter-widgets/controls",
      "_view_module_version": "1.5.0",
      "_view_name": "LabelView",
      "description": "",
      "description_tooltip": null,
      "layout": "IPY_MODEL_dad056ecf747499a9a71c4111b776a83",
      "placeholder": "​",
      "style": "IPY_MODEL_8c935eff21fa41b4ac8086ef10b02c1f",
      "value": "Your token has been saved in your configured git credential helpers (store)."
     }
    },
    "0f15a3d366c146e9bf6b4521772ea88a": {
     "model_module": "@jupyter-widgets/base",
     "model_module_version": "1.2.0",
     "model_name": "LayoutModel",
     "state": {
      "_model_module": "@jupyter-widgets/base",
      "_model_module_version": "1.2.0",
      "_model_name": "LayoutModel",
      "_view_count": null,
      "_view_module": "@jupyter-widgets/base",
      "_view_module_version": "1.2.0",
      "_view_name": "LayoutView",
      "align_content": null,
      "align_items": null,
      "align_self": null,
      "border": null,
      "bottom": null,
      "display": null,
      "flex": null,
      "flex_flow": null,
      "grid_area": null,
      "grid_auto_columns": null,
      "grid_auto_flow": null,
      "grid_auto_rows": null,
      "grid_column": null,
      "grid_gap": null,
      "grid_row": null,
      "grid_template_areas": null,
      "grid_template_columns": null,
      "grid_template_rows": null,
      "height": null,
      "justify_content": null,
      "justify_items": null,
      "left": null,
      "margin": null,
      "max_height": null,
      "max_width": null,
      "min_height": null,
      "min_width": null,
      "object_fit": null,
      "object_position": null,
      "order": null,
      "overflow": null,
      "overflow_x": null,
      "overflow_y": null,
      "padding": null,
      "right": null,
      "top": null,
      "visibility": null,
      "width": null
     }
    },
    "2639c5db73b4468bb6eecd01cf3572b8": {
     "model_module": "@jupyter-widgets/base",
     "model_module_version": "1.2.0",
     "model_name": "LayoutModel",
     "state": {
      "_model_module": "@jupyter-widgets/base",
      "_model_module_version": "1.2.0",
      "_model_name": "LayoutModel",
      "_view_count": null,
      "_view_module": "@jupyter-widgets/base",
      "_view_module_version": "1.2.0",
      "_view_name": "LayoutView",
      "align_content": null,
      "align_items": "center",
      "align_self": null,
      "border": null,
      "bottom": null,
      "display": "flex",
      "flex": null,
      "flex_flow": "column",
      "grid_area": null,
      "grid_auto_columns": null,
      "grid_auto_flow": null,
      "grid_auto_rows": null,
      "grid_column": null,
      "grid_gap": null,
      "grid_row": null,
      "grid_template_areas": null,
      "grid_template_columns": null,
      "grid_template_rows": null,
      "height": null,
      "justify_content": null,
      "justify_items": null,
      "left": null,
      "margin": null,
      "max_height": null,
      "max_width": null,
      "min_height": null,
      "min_width": null,
      "object_fit": null,
      "object_position": null,
      "order": null,
      "overflow": null,
      "overflow_x": null,
      "overflow_y": null,
      "padding": null,
      "right": null,
      "top": null,
      "visibility": null,
      "width": "50%"
     }
    },
    "322cfee05ed14d699f5f13b8c1be88bc": {
     "model_module": "@jupyter-widgets/base",
     "model_module_version": "1.2.0",
     "model_name": "LayoutModel",
     "state": {
      "_model_module": "@jupyter-widgets/base",
      "_model_module_version": "1.2.0",
      "_model_name": "LayoutModel",
      "_view_count": null,
      "_view_module": "@jupyter-widgets/base",
      "_view_module_version": "1.2.0",
      "_view_name": "LayoutView",
      "align_content": null,
      "align_items": null,
      "align_self": null,
      "border": null,
      "bottom": null,
      "display": null,
      "flex": null,
      "flex_flow": null,
      "grid_area": null,
      "grid_auto_columns": null,
      "grid_auto_flow": null,
      "grid_auto_rows": null,
      "grid_column": null,
      "grid_gap": null,
      "grid_row": null,
      "grid_template_areas": null,
      "grid_template_columns": null,
      "grid_template_rows": null,
      "height": null,
      "justify_content": null,
      "justify_items": null,
      "left": null,
      "margin": null,
      "max_height": null,
      "max_width": null,
      "min_height": null,
      "min_width": null,
      "object_fit": null,
      "object_position": null,
      "order": null,
      "overflow": null,
      "overflow_x": null,
      "overflow_y": null,
      "padding": null,
      "right": null,
      "top": null,
      "visibility": null,
      "width": null
     }
    },
    "3cd981f8afcb411ca58325e87f3eed03": {
     "model_module": "@jupyter-widgets/controls",
     "model_module_version": "1.5.0",
     "model_name": "DescriptionStyleModel",
     "state": {
      "_model_module": "@jupyter-widgets/controls",
      "_model_module_version": "1.5.0",
      "_model_name": "DescriptionStyleModel",
      "_view_count": null,
      "_view_module": "@jupyter-widgets/base",
      "_view_module_version": "1.2.0",
      "_view_name": "StyleView",
      "description_width": ""
     }
    },
    "3f263a6c80ce412e9f3e5ef308bcd891": {
     "model_module": "@jupyter-widgets/controls",
     "model_module_version": "1.5.0",
     "model_name": "FloatProgressModel",
     "state": {
      "_dom_classes": [],
      "_model_module": "@jupyter-widgets/controls",
      "_model_module_version": "1.5.0",
      "_model_name": "FloatProgressModel",
      "_view_count": null,
      "_view_module": "@jupyter-widgets/controls",
      "_view_module_version": "1.5.0",
      "_view_name": "ProgressView",
      "bar_style": "",
      "description": "",
      "description_tooltip": null,
      "layout": "IPY_MODEL_486c94ff34dc4c5e979970e6efc1e206",
      "max": 16068891520,
      "min": 0,
      "orientation": "horizontal",
      "style": "IPY_MODEL_f881131f51e44f9ebabc39a8643031ce",
      "value": 550569400
     }
    },
    "486c94ff34dc4c5e979970e6efc1e206": {
     "model_module": "@jupyter-widgets/base",
     "model_module_version": "1.2.0",
     "model_name": "LayoutModel",
     "state": {
      "_model_module": "@jupyter-widgets/base",
      "_model_module_version": "1.2.0",
      "_model_name": "LayoutModel",
      "_view_count": null,
      "_view_module": "@jupyter-widgets/base",
      "_view_module_version": "1.2.0",
      "_view_name": "LayoutView",
      "align_content": null,
      "align_items": null,
      "align_self": null,
      "border": null,
      "bottom": null,
      "display": null,
      "flex": null,
      "flex_flow": null,
      "grid_area": null,
      "grid_auto_columns": null,
      "grid_auto_flow": null,
      "grid_auto_rows": null,
      "grid_column": null,
      "grid_gap": null,
      "grid_row": null,
      "grid_template_areas": null,
      "grid_template_columns": null,
      "grid_template_rows": null,
      "height": null,
      "justify_content": null,
      "justify_items": null,
      "left": null,
      "margin": null,
      "max_height": null,
      "max_width": null,
      "min_height": null,
      "min_width": null,
      "object_fit": null,
      "object_position": null,
      "order": null,
      "overflow": null,
      "overflow_x": null,
      "overflow_y": null,
      "padding": null,
      "right": null,
      "top": null,
      "visibility": null,
      "width": null
     }
    },
    "664a69deade64015a1ff93f867db53d0": {
     "model_module": "@jupyter-widgets/controls",
     "model_module_version": "1.5.0",
     "model_name": "LabelModel",
     "state": {
      "_dom_classes": [],
      "_model_module": "@jupyter-widgets/controls",
      "_model_module_version": "1.5.0",
      "_model_name": "LabelModel",
      "_view_count": null,
      "_view_module": "@jupyter-widgets/controls",
      "_view_module_version": "1.5.0",
      "_view_name": "LabelView",
      "description": "",
      "description_tooltip": null,
      "layout": "IPY_MODEL_73a0f0d77eec4c4f9a40f6746d4e43e3",
      "placeholder": "​",
      "style": "IPY_MODEL_3cd981f8afcb411ca58325e87f3eed03",
      "value": "Token is valid (permission: fineGrained)."
     }
    },
    "6682c48e7b774858a765f5b537fd073b": {
     "model_module": "@jupyter-widgets/controls",
     "model_module_version": "1.5.0",
     "model_name": "DescriptionStyleModel",
     "state": {
      "_model_module": "@jupyter-widgets/controls",
      "_model_module_version": "1.5.0",
      "_model_name": "DescriptionStyleModel",
      "_view_count": null,
      "_view_module": "@jupyter-widgets/base",
      "_view_module_version": "1.2.0",
      "_view_name": "StyleView",
      "description_width": ""
     }
    },
    "6916bcc5fd6f46988452bbd61593df48": {
     "model_module": "@jupyter-widgets/base",
     "model_module_version": "1.2.0",
     "model_name": "LayoutModel",
     "state": {
      "_model_module": "@jupyter-widgets/base",
      "_model_module_version": "1.2.0",
      "_model_name": "LayoutModel",
      "_view_count": null,
      "_view_module": "@jupyter-widgets/base",
      "_view_module_version": "1.2.0",
      "_view_name": "LayoutView",
      "align_content": null,
      "align_items": null,
      "align_self": null,
      "border": null,
      "bottom": null,
      "display": null,
      "flex": null,
      "flex_flow": null,
      "grid_area": null,
      "grid_auto_columns": null,
      "grid_auto_flow": null,
      "grid_auto_rows": null,
      "grid_column": null,
      "grid_gap": null,
      "grid_row": null,
      "grid_template_areas": null,
      "grid_template_columns": null,
      "grid_template_rows": null,
      "height": null,
      "justify_content": null,
      "justify_items": null,
      "left": null,
      "margin": null,
      "max_height": null,
      "max_width": null,
      "min_height": null,
      "min_width": null,
      "object_fit": null,
      "object_position": null,
      "order": null,
      "overflow": null,
      "overflow_x": null,
      "overflow_y": null,
      "padding": null,
      "right": null,
      "top": null,
      "visibility": null,
      "width": null
     }
    },
    "73a0f0d77eec4c4f9a40f6746d4e43e3": {
     "model_module": "@jupyter-widgets/base",
     "model_module_version": "1.2.0",
     "model_name": "LayoutModel",
     "state": {
      "_model_module": "@jupyter-widgets/base",
      "_model_module_version": "1.2.0",
      "_model_name": "LayoutModel",
      "_view_count": null,
      "_view_module": "@jupyter-widgets/base",
      "_view_module_version": "1.2.0",
      "_view_name": "LayoutView",
      "align_content": null,
      "align_items": null,
      "align_self": null,
      "border": null,
      "bottom": null,
      "display": null,
      "flex": null,
      "flex_flow": null,
      "grid_area": null,
      "grid_auto_columns": null,
      "grid_auto_flow": null,
      "grid_auto_rows": null,
      "grid_column": null,
      "grid_gap": null,
      "grid_row": null,
      "grid_template_areas": null,
      "grid_template_columns": null,
      "grid_template_rows": null,
      "height": null,
      "justify_content": null,
      "justify_items": null,
      "left": null,
      "margin": null,
      "max_height": null,
      "max_width": null,
      "min_height": null,
      "min_width": null,
      "object_fit": null,
      "object_position": null,
      "order": null,
      "overflow": null,
      "overflow_x": null,
      "overflow_y": null,
      "padding": null,
      "right": null,
      "top": null,
      "visibility": null,
      "width": null
     }
    },
    "7ec4aea0ace74ae5a9aaa84f9dd4efb8": {
     "model_module": "@jupyter-widgets/base",
     "model_module_version": "1.2.0",
     "model_name": "LayoutModel",
     "state": {
      "_model_module": "@jupyter-widgets/base",
      "_model_module_version": "1.2.0",
      "_model_name": "LayoutModel",
      "_view_count": null,
      "_view_module": "@jupyter-widgets/base",
      "_view_module_version": "1.2.0",
      "_view_name": "LayoutView",
      "align_content": null,
      "align_items": null,
      "align_self": null,
      "border": null,
      "bottom": null,
      "display": null,
      "flex": null,
      "flex_flow": null,
      "grid_area": null,
      "grid_auto_columns": null,
      "grid_auto_flow": null,
      "grid_auto_rows": null,
      "grid_column": null,
      "grid_gap": null,
      "grid_row": null,
      "grid_template_areas": null,
      "grid_template_columns": null,
      "grid_template_rows": null,
      "height": null,
      "justify_content": null,
      "justify_items": null,
      "left": null,
      "margin": null,
      "max_height": null,
      "max_width": null,
      "min_height": null,
      "min_width": null,
      "object_fit": null,
      "object_position": null,
      "order": null,
      "overflow": null,
      "overflow_x": null,
      "overflow_y": null,
      "padding": null,
      "right": null,
      "top": null,
      "visibility": null,
      "width": null
     }
    },
    "81351fbe8aef421092cba58f68d2e3ec": {
     "model_module": "@jupyter-widgets/controls",
     "model_module_version": "1.5.0",
     "model_name": "LabelModel",
     "state": {
      "_dom_classes": [],
      "_model_module": "@jupyter-widgets/controls",
      "_model_module_version": "1.5.0",
      "_model_name": "LabelModel",
      "_view_count": null,
      "_view_module": "@jupyter-widgets/controls",
      "_view_module_version": "1.5.0",
      "_view_name": "LabelView",
      "description": "",
      "description_tooltip": null,
      "layout": "IPY_MODEL_6916bcc5fd6f46988452bbd61593df48",
      "placeholder": "​",
      "style": "IPY_MODEL_a3dd9887c13a462f88aaf7dfe3b34e81",
      "value": "Your token has been saved to /root/.cache/huggingface/token"
     }
    },
    "860495c288e24d7892c1baf4bb0d0971": {
     "model_module": "@jupyter-widgets/controls",
     "model_module_version": "1.5.0",
     "model_name": "DescriptionStyleModel",
     "state": {
      "_model_module": "@jupyter-widgets/controls",
      "_model_module_version": "1.5.0",
      "_model_name": "DescriptionStyleModel",
      "_view_count": null,
      "_view_module": "@jupyter-widgets/base",
      "_view_module_version": "1.2.0",
      "_view_name": "StyleView",
      "description_width": ""
     }
    },
    "8c935eff21fa41b4ac8086ef10b02c1f": {
     "model_module": "@jupyter-widgets/controls",
     "model_module_version": "1.5.0",
     "model_name": "DescriptionStyleModel",
     "state": {
      "_model_module": "@jupyter-widgets/controls",
      "_model_module_version": "1.5.0",
      "_model_name": "DescriptionStyleModel",
      "_view_count": null,
      "_view_module": "@jupyter-widgets/base",
      "_view_module_version": "1.2.0",
      "_view_name": "StyleView",
      "description_width": ""
     }
    },
    "a3c145fa6776483e8051d5ba09ce96c0": {
     "model_module": "@jupyter-widgets/controls",
     "model_module_version": "1.5.0",
     "model_name": "VBoxModel",
     "state": {
      "_dom_classes": [],
      "_model_module": "@jupyter-widgets/controls",
      "_model_module_version": "1.5.0",
      "_model_name": "VBoxModel",
      "_view_count": null,
      "_view_module": "@jupyter-widgets/controls",
      "_view_module_version": "1.5.0",
      "_view_name": "VBoxView",
      "box_style": "",
      "children": [
       "IPY_MODEL_664a69deade64015a1ff93f867db53d0",
       "IPY_MODEL_0dd93cfa1b72419180a4a1d29419a5f5",
       "IPY_MODEL_81351fbe8aef421092cba58f68d2e3ec",
       "IPY_MODEL_d93c34ea2a6c488fb5175ec7e9c539cb"
      ],
      "layout": "IPY_MODEL_2639c5db73b4468bb6eecd01cf3572b8"
     }
    },
    "a3dd9887c13a462f88aaf7dfe3b34e81": {
     "model_module": "@jupyter-widgets/controls",
     "model_module_version": "1.5.0",
     "model_name": "DescriptionStyleModel",
     "state": {
      "_model_module": "@jupyter-widgets/controls",
      "_model_module_version": "1.5.0",
      "_model_name": "DescriptionStyleModel",
      "_view_count": null,
      "_view_module": "@jupyter-widgets/base",
      "_view_module_version": "1.2.0",
      "_view_name": "StyleView",
      "description_width": ""
     }
    },
    "c344026122a1473f953a0a1d189f077f": {
     "model_module": "@jupyter-widgets/controls",
     "model_module_version": "1.5.0",
     "model_name": "HTMLModel",
     "state": {
      "_dom_classes": [],
      "_model_module": "@jupyter-widgets/controls",
      "_model_module_version": "1.5.0",
      "_model_name": "HTMLModel",
      "_view_count": null,
      "_view_module": "@jupyter-widgets/controls",
      "_view_module_version": "1.5.0",
      "_view_name": "HTMLView",
      "description": "",
      "description_tooltip": null,
      "layout": "IPY_MODEL_0f15a3d366c146e9bf6b4521772ea88a",
      "placeholder": "​",
      "style": "IPY_MODEL_860495c288e24d7892c1baf4bb0d0971",
      "value": " 551M/16.1G [00:15&lt;07:21, 35.2MB/s]"
     }
    },
    "d93c34ea2a6c488fb5175ec7e9c539cb": {
     "model_module": "@jupyter-widgets/controls",
     "model_module_version": "1.5.0",
     "model_name": "LabelModel",
     "state": {
      "_dom_classes": [],
      "_model_module": "@jupyter-widgets/controls",
      "_model_module_version": "1.5.0",
      "_model_name": "LabelModel",
      "_view_count": null,
      "_view_module": "@jupyter-widgets/controls",
      "_view_module_version": "1.5.0",
      "_view_name": "LabelView",
      "description": "",
      "description_tooltip": null,
      "layout": "IPY_MODEL_7ec4aea0ace74ae5a9aaa84f9dd4efb8",
      "placeholder": "​",
      "style": "IPY_MODEL_05c273aeb5ce4c54a7a5060d08583653",
      "value": "Login successful"
     }
    },
    "da07cf7295af4f3f9dded757cc4a9d91": {
     "model_module": "@jupyter-widgets/base",
     "model_module_version": "1.2.0",
     "model_name": "LayoutModel",
     "state": {
      "_model_module": "@jupyter-widgets/base",
      "_model_module_version": "1.2.0",
      "_model_name": "LayoutModel",
      "_view_count": null,
      "_view_module": "@jupyter-widgets/base",
      "_view_module_version": "1.2.0",
      "_view_name": "LayoutView",
      "align_content": null,
      "align_items": null,
      "align_self": null,
      "border": null,
      "bottom": null,
      "display": null,
      "flex": null,
      "flex_flow": null,
      "grid_area": null,
      "grid_auto_columns": null,
      "grid_auto_flow": null,
      "grid_auto_rows": null,
      "grid_column": null,
      "grid_gap": null,
      "grid_row": null,
      "grid_template_areas": null,
      "grid_template_columns": null,
      "grid_template_rows": null,
      "height": null,
      "justify_content": null,
      "justify_items": null,
      "left": null,
      "margin": null,
      "max_height": null,
      "max_width": null,
      "min_height": null,
      "min_width": null,
      "object_fit": null,
      "object_position": null,
      "order": null,
      "overflow": null,
      "overflow_x": null,
      "overflow_y": null,
      "padding": null,
      "right": null,
      "top": null,
      "visibility": null,
      "width": null
     }
    },
    "dad056ecf747499a9a71c4111b776a83": {
     "model_module": "@jupyter-widgets/base",
     "model_module_version": "1.2.0",
     "model_name": "LayoutModel",
     "state": {
      "_model_module": "@jupyter-widgets/base",
      "_model_module_version": "1.2.0",
      "_model_name": "LayoutModel",
      "_view_count": null,
      "_view_module": "@jupyter-widgets/base",
      "_view_module_version": "1.2.0",
      "_view_name": "LayoutView",
      "align_content": null,
      "align_items": null,
      "align_self": null,
      "border": null,
      "bottom": null,
      "display": null,
      "flex": null,
      "flex_flow": null,
      "grid_area": null,
      "grid_auto_columns": null,
      "grid_auto_flow": null,
      "grid_auto_rows": null,
      "grid_column": null,
      "grid_gap": null,
      "grid_row": null,
      "grid_template_areas": null,
      "grid_template_columns": null,
      "grid_template_rows": null,
      "height": null,
      "justify_content": null,
      "justify_items": null,
      "left": null,
      "margin": null,
      "max_height": null,
      "max_width": null,
      "min_height": null,
      "min_width": null,
      "object_fit": null,
      "object_position": null,
      "order": null,
      "overflow": null,
      "overflow_x": null,
      "overflow_y": null,
      "padding": null,
      "right": null,
      "top": null,
      "visibility": null,
      "width": null
     }
    },
    "f881131f51e44f9ebabc39a8643031ce": {
     "model_module": "@jupyter-widgets/controls",
     "model_module_version": "1.5.0",
     "model_name": "ProgressStyleModel",
     "state": {
      "_model_module": "@jupyter-widgets/controls",
      "_model_module_version": "1.5.0",
      "_model_name": "ProgressStyleModel",
      "_view_count": null,
      "_view_module": "@jupyter-widgets/base",
      "_view_module_version": "1.2.0",
      "_view_name": "StyleView",
      "bar_color": null,
      "description_width": ""
     }
    },
    "fcb37b9edde14108a4649868be5aaa21": {
     "model_module": "@jupyter-widgets/controls",
     "model_module_version": "1.5.0",
     "model_name": "HTMLModel",
     "state": {
      "_dom_classes": [],
      "_model_module": "@jupyter-widgets/controls",
      "_model_module_version": "1.5.0",
      "_model_name": "HTMLModel",
      "_view_count": null,
      "_view_module": "@jupyter-widgets/controls",
      "_view_module_version": "1.5.0",
      "_view_name": "HTMLView",
      "description": "",
      "description_tooltip": null,
      "layout": "IPY_MODEL_da07cf7295af4f3f9dded757cc4a9d91",
      "placeholder": "​",
      "style": "IPY_MODEL_6682c48e7b774858a765f5b537fd073b",
      "value": "Llama-3-Ko-8B-Instruct-F16.gguf:   3%"
     }
    }
   }
  }
 },
 "nbformat": 4,
 "nbformat_minor": 0
}
